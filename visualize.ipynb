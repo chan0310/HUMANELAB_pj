{
 "cells": [
  {
   "cell_type": "code",
   "execution_count": 2,
   "metadata": {},
   "outputs": [],
   "source": [
    "from Transformer.Config import Config\n",
    "import torch\n",
    "import torch.nn as nn\n",
    "from torch import optim\n",
    "\n",
    "from Transformer.Trainer.Tokenizer import TokenizerPlus\n",
    "from Transformer.Trainer.Trainer import Trainer\n",
    "from Transformer.Trainer.decoding import greedy_decoding\n",
    "from Transformer.Config import Config\n",
    "from Transformer.Model import Transformer\n",
    "import requests\n",
    "import pandas as pd\n",
    "url = \"https://raw.githubusercontent.com/WegraLee/deep-learning-from-scratch-2/master/dataset/date.txt\"\n",
    "r = requests.get(url)\n",
    "questions, answers = [], []\n",
    "for line in r.text.strip().split('\\n'):\n",
    "    idx = line.find('_')\n",
    "    questions.append(line[:idx].strip())\n",
    "    answers.append(line[idx:].strip())\n",
    "df=pd.DataFrame([questions,answers])\n",
    "df.to_csv(\"ex1.csv\")\n",
    "\n",
    "tokenizer = TokenizerPlus(char_level=True, filters='')\n",
    "tokenizer.fit_on_texts(questions)\n",
    "tokenizer.fit_on_texts(answers)\n",
    "src = tokenizer.to_tensor(questions)\n",
    "tgt = tokenizer.to_tensor(answers)\n"
   ]
  },
  {
   "cell_type": "code",
   "execution_count": 30,
   "metadata": {},
   "outputs": [
    {
     "name": "stdout",
     "output_type": "stream",
     "text": [
      "tensor([[11, 19, 36, 19, 24, 25,  6,  1,  2,  8,  6,  1,  4,  4, 16]])\n",
      "torch.Size([1, 15]) torch.Size([50000, 29])\n",
      "tensor([[ 0,  0,  0,  0,  0,  0,  0,  0,  0,  0,  0,  0,  0,  0, 11, 19, 36, 19,\n",
      "         24, 25,  6,  1,  2,  8,  6,  1,  4,  4, 16]]) \n",
      " torch.Size([1, 29]) torch.Size([50000, 29])\n",
      "['august 10, 1994']\n",
      "['1994-08-10']\n",
      "['august 10, 1994']\n",
      "['1994-08-10']\n"
     ]
    }
   ],
   "source": [
    "\n",
    "config=Config(len(tokenizer.word_index)+1)\n",
    "config.n_enc_seq=64\n",
    "config.n_dec_seq=64\n",
    "config.d_hidn=64\n",
    "config.d_ff=128\n",
    "config.d_head=64\n",
    "config.n_layer=2\n",
    "config=Config(len(tokenizer.word_index)+1)\n",
    "\n",
    "model = Transformer(config)\n",
    "model.load_state_dict(torch.load('ex1.pth'))\n",
    "\n",
    "input=tokenizer.to_tensor(\"august 10, 1994\").view(1,-1)\n",
    "print(input)\n",
    "print(input.shape,src.shape)\n",
    "input = torch.cat([torch.zeros(1, src.size(1) - input.size(1)) , input], dim=1).to(torch.int64)\n",
    "\n",
    "print(input,\"\\n\",input.shape,src.shape)\n",
    "print(str(tokenizer.to_string(input)))\n",
    "output,att=greedy_decoding(model,input,tokenizer,\"_\")\n",
    "print(output)\n",
    "print(tokenizer.to_string(input))\n",
    "output=tokenizer.to_tensor(output).view(1,-1)\n",
    "print(tokenizer.to_string(output))\n"
   ]
  },
  {
   "cell_type": "code",
   "execution_count": 65,
   "metadata": {},
   "outputs": [
    {
     "name": "stdout",
     "output_type": "stream",
     "text": [
      "torch.Size([1, 10]) tensor([[ 1,  4,  4, 16,  3,  2, 10,  3,  1,  2]])\n",
      "torch.Size([1, 29])\n"
     ]
    }
   ],
   "source": [
    "print(output.shape,output)\n",
    "print(input.shape)\n",
    "tok_dic={value: key for key, value in tokenizer.word_index.items()}\n",
    "tok_dic[0]=\" \"\n",
    "inputli=[]\n",
    "for i in list(input[0]):\n",
    "    inputli.append(tok_dic[int(i.item())])\n",
    "outputLi=[]\n",
    "for i in list(output[0]):\n",
    "    outputLi.append(tok_dic[int(i.item())])"
   ]
  },
  {
   "cell_type": "code",
   "execution_count": 66,
   "metadata": {},
   "outputs": [
    {
     "name": "stdout",
     "output_type": "stream",
     "text": [
      "[' ', ' ', ' ', ' ', ' ', ' ', ' ', ' ', ' ', ' ', ' ', ' ', ' ', ' ', 'a', 'u', 'g', 'u', 's', 't', ' ', '1', '0', ',', ' ', '1', '9', '9', '4']\n",
      "['1', '9', '9', '4', '-', '0', '8', '-', '1', '0']\n"
     ]
    }
   ],
   "source": [
    "print(inputli)\n",
    "print(outputLi)"
   ]
  },
  {
   "cell_type": "code",
   "execution_count": 21,
   "metadata": {},
   "outputs": [
    {
     "name": "stdout",
     "output_type": "stream",
     "text": [
      "<class 'torch.Tensor'> 2 torch.Size([1, 4, 10, 29])\n",
      "torch.Size([10, 29])\n"
     ]
    }
   ],
   "source": [
    "\n",
    "print(type(att[1]),len(att),att[1].shape)\n",
    "dec_enc_att=att[1]\n",
    "dec_enc_att = torch.sum(dec_enc_att, dim=1)\n",
    "dec_enc_att=dec_enc_att.view(10,29)\n",
    "print(dec_enc_att.shape) # (output , input)"
   ]
  },
  {
   "cell_type": "code",
   "execution_count": 69,
   "metadata": {},
   "outputs": [],
   "source": [
    "df = pd.DataFrame(dec_enc_att.detach().numpy(),columns=inputli)\n",
    "df.index = outputLi\n"
   ]
  },
  {
   "cell_type": "code",
   "execution_count": 73,
   "metadata": {},
   "outputs": [
    {
     "data": {
      "image/png": "[encoded data removed]",
      "text/plain": [
       "<Figure size 800x600 with 2 Axes>"
      ]
     },
     "metadata": {},
     "output_type": "display_data"
    }
   ],
   "source": [
    "import seaborn as sns\n",
    "import matplotlib.pyplot as plt\n",
    "sns.set()\n",
    "\n",
    "# 히트맵 생성\n",
    "plt.figure(figsize=(8, 6))\n",
    "sns.heatmap(df, annot=False, cmap='YlGnBu', linewidths=1)\n",
    "plt.title(\"Heatmap of DataFrame\")\n",
    "plt.show()"
   ]
  }
 ],
 "metadata": {
  "kernelspec": {
   "display_name": "pytorchVenv",
   "language": "python",
   "name": "python3"
  },
  "language_info": {
   "codemirror_mode": {
    "name": "ipython",
    "version": 3
   },
   "file_extension": ".py",
   "mimetype": "text/x-python",
   "name": "python",
   "nbconvert_exporter": "python",
   "pygments_lexer": "ipython3",
   "version": "3.11.4"
  },
  "orig_nbformat": 4
 },
 "nbformat": 4,
 "nbformat_minor": 2
}
