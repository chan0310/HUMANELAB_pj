{
 "cells": [
  {
   "cell_type": "code",
   "execution_count": 1,
   "metadata": {},
   "outputs": [],
   "source": [
    "import torch.nn as nn\n",
    "import torch\n",
    "from Seq2SeqModel.Seq2SeqModel import Seq2SeqModel\n",
    "import pandas as pd\n",
    "from transformers import AutoTokenizer\n",
    "import torch.nn.init as init\n",
    "\n",
    "# CSV 파일에서 데이터 불러오기\n",
    "df_train = pd.read_csv(\"Datatset/train.csv\")\n",
    "df_val = pd.read_csv(\"Datatset/val.csv\")\n",
    "tokenizer= AutoTokenizer.from_pretrained(\"Datatset/tokenizer\")\n",
    "\n",
    "def str_to_list(input_string):\n",
    "    cleaned_string = input_string.strip(\"[]\").replace(\" \", \"\")\n",
    "\n",
    "    number_strings = cleaned_string.split(\",\")\n",
    "    number_list = [int(num) for num in number_strings]\n",
    "    return number_list\n",
    "\n",
    "# 데이터 추출\n",
    "X_train = df_train[\"X_train\"].values.tolist()\n",
    "X_train=[str_to_list(i) for i in X_train]\n",
    "y_train = df_train[\"y_train\"].values.tolist()\n",
    "y_train=[str_to_list(i) for i in y_train]\n",
    "\n",
    "\n",
    "X_val = df_val[\"X_val\"].values.tolist()\n",
    "X_val=[str_to_list(i) for i in X_val]\n",
    "y_val = df_val[\"y_val\"].values.tolist()\n",
    "y_val=[str_to_list(i) for i in y_val]\n",
    "\n",
    "\n"
   ]
  },
  {
   "cell_type": "code",
   "execution_count": 2,
   "metadata": {},
   "outputs": [],
   "source": [
    "newx=[]\n",
    "newy=[]\n",
    "for x,y in zip(X_train,y_train):\n",
    "    if len(x)<20 and len(y)<20:\n",
    "        newx.append(x)\n",
    "        newy.append(y)"
   ]
  },
  {
   "cell_type": "code",
   "execution_count": 3,
   "metadata": {},
   "outputs": [],
   "source": [
    "X_train=[]\n",
    "for i in newx:\n",
    "    i=tokenizer.convert_tokens_to_string(tokenizer.convert_ids_to_tokens(i))\n",
    "    X_train.append(i)"
   ]
  },
  {
   "cell_type": "code",
   "execution_count": 4,
   "metadata": {},
   "outputs": [],
   "source": [
    "y_train=[]\n",
    "for i in newy:\n",
    "    i=tokenizer.convert_tokens_to_string(tokenizer.convert_ids_to_tokens(i))\n",
    "    y_train.append(i)"
   ]
  },
  {
   "cell_type": "code",
   "execution_count": 5,
   "metadata": {},
   "outputs": [
    {
     "name": "stdout",
     "output_type": "stream",
     "text": [
      "<bos> Credit Card▁Tracker</s> <bos> Traqueur de carte de créditName</s> 152122\n"
     ]
    }
   ],
   "source": [
    "print(X_train[10],y_train[10],len(X_train))"
   ]
  },
  {
   "cell_type": "code",
   "execution_count": 6,
   "metadata": {},
   "outputs": [],
   "source": [
    "newx1=[]\n",
    "newy1=[]\n",
    "for x,y in zip(X_val,y_val):\n",
    "    if len(x)<20 and len(y)<20:\n",
    "        newx1.append(x)\n",
    "        newy1.append(y)"
   ]
  },
  {
   "cell_type": "code",
   "execution_count": 7,
   "metadata": {},
   "outputs": [],
   "source": [
    "X_val=[]\n",
    "for i in newx1:\n",
    "    i=tokenizer.convert_tokens_to_string(tokenizer.convert_ids_to_tokens(i))\n",
    "    X_val.append(i)"
   ]
  },
  {
   "cell_type": "code",
   "execution_count": 8,
   "metadata": {},
   "outputs": [],
   "source": [
    "y_val=[]\n",
    "for i in newy1:\n",
    "    i=tokenizer.convert_tokens_to_string(tokenizer.convert_ids_to_tokens(i))\n",
    "    y_val.append(i)"
   ]
  },
  {
   "cell_type": "code",
   "execution_count": 16,
   "metadata": {},
   "outputs": [],
   "source": [
    "from transformers import AutoTokenizer\n",
    "\n",
    "# 토크나이저 선택\n",
    "model_checkpoint = \"bert-base-uncased\"\n",
    "tokenizer = AutoTokenizer.from_pretrained(model_checkpoint)\n",
    "tokenizer.add_special_tokens({\"bos_token\": \"<bos>\"})\n",
    "\n",
    "# 트레이닝 데이터와 라벨 데이터 (예시 데이터)\n",
    "training_data = X_train+X_val+y_train+y_val\n",
    "# 텍스트 데이터 전처리 및 토큰화\n",
    "tokenized_data = tokenizer(training_data, padding=True, truncation=True, return_tensors=\"pt\")\n",
    "\n"
   ]
  },
  {
   "cell_type": "code",
   "execution_count": 21,
   "metadata": {},
   "outputs": [
    {
     "data": {
      "text/plain": [
       "30523"
      ]
     },
     "execution_count": 21,
     "metadata": {},
     "output_type": "execute_result"
    }
   ],
   "source": [
    "len(tokenizer.get_vocab())"
   ]
  },
  {
   "cell_type": "code",
   "execution_count": 15,
   "metadata": {},
   "outputs": [
    {
     "name": "stdout",
     "output_type": "stream",
     "text": [
      "[59514, 17921, 3317, 12812, 2559, 0]\n",
      "<bos> *. ui *. UI_BAR_User Interface▁Files</s>\n"
     ]
    },
    {
     "data": {
      "text/plain": [
       "[None, 'moreno', 'castle', 'agony', 'looking', '[PAD]']"
      ]
     },
     "execution_count": 15,
     "metadata": {},
     "output_type": "execute_result"
    }
   ],
   "source": [
    "print(newx1[1])\n",
    "print(X_train[1])\n",
    "tokenizer.convert_ids_to_tokens(newx1[1])\n"
   ]
  },
  {
   "cell_type": "code",
   "execution_count": 19,
   "metadata": {},
   "outputs": [],
   "source": [
    "\n",
    "import pandas as pd\n",
    "df_train = pd.DataFrame({\n",
    "    \"X_train\": newx,\n",
    "    \"y_train\": newy,\n",
    "})\n",
    "\n",
    "df_val = pd.DataFrame({\n",
    "    \"X_val\": newx1,\n",
    "    \"y_val\": newy1,\n",
    "})\n",
    "\n",
    "tokenizer.save_pretrained(\"Datatset3/tokenizer\")\n",
    "\n",
    "df_train.to_csv(\"Datatset3/train.csv\",index=False)\n",
    "df_val.to_csv(\"Datatset3/val.csv\",index=False)\n"
   ]
  },
  {
   "cell_type": "code",
   "execution_count": 16,
   "metadata": {},
   "outputs": [
    {
     "data": {
      "image/png": "[encoded data removed]",
      "text/plain": [
       "<Figure size 640x480 with 1 Axes>"
      ]
     },
     "metadata": {},
     "output_type": "display_data"
    }
   ],
   "source": [
    "import matplotlib.pyplot as plt\n",
    "\n",
    "# 1차원 리스트 데이터 (예시 데이터)\n",
    "\n",
    "# 히스토그램 그리기\n",
    "plt.hist(x, bins=10, color='blue', edgecolor='black')\n",
    "\n",
    "# 그래프 제목 및 레이블 설정\n",
    "plt.title('Histogram of 1D Data')\n",
    "plt.xlabel('Value')\n",
    "plt.ylabel('Frequency')\n",
    "\n",
    "# 히스토그램 출력\n",
    "plt.show()\n"
   ]
  },
  {
   "attachments": {},
   "cell_type": "markdown",
   "metadata": {},
   "source": [
    "## 1"
   ]
  },
  {
   "cell_type": "code",
   "execution_count": 2,
   "metadata": {},
   "outputs": [
    {
     "name": "stdout",
     "output_type": "stream",
     "text": [
      "Set\n",
      "Using cpu\n",
      "128\n"
     ]
    }
   ],
   "source": [
    "device = torch.device('cpu')\n",
    "\n",
    "tokenizer= AutoTokenizer.from_pretrained(\"Datatset/tokenizer\")\n",
    "model=None\n",
    "class_weights = torch.ones(tokenizer.vocab_size+1).to(device=device)\n",
    "class_weights[tokenizer.pad_token_id]=0.1\n",
    "class_weights[tokenizer.pad_token_id-1]=0.1\n",
    "loss_fn = nn.CrossEntropyLoss(label_smoothing=0.01,weight=class_weights)\n",
    "optimizer=None\n",
    "batchsize=64\n",
    "lr=0.005\n",
    "print(\"Set\")\n",
    "module=Seq2SeqModel( tokenizer,loss_fn, lr,\n",
    "                    X_train,y_train,X_val,y_val,\n",
    "                     batch_size=batchsize, device=torch.device(\"cpu\"), n_layer=8,n_head=4)\n",
    "print(module.config.n_dec_seq)\n"
   ]
  },
  {
   "cell_type": "code",
   "execution_count": 3,
   "metadata": {},
   "outputs": [
    {
     "name": "stdout",
     "output_type": "stream",
     "text": [
      "train\n"
     ]
    }
   ],
   "source": [
    "\n",
    "print(\"train\")\n",
    "module.load_model(\"saved2.pth\")"
   ]
  },
  {
   "cell_type": "code",
   "execution_count": 4,
   "metadata": {},
   "outputs": [
    {
     "name": "stdout",
     "output_type": "stream",
     "text": [
      "{'n_enc_vocab': 59515, 'n_dec_vocab': 59515, 'n_enc_seq': 128, 'n_dec_seq': 128, 'n_layer': 8, 'd_hidn': 128, 'i_pad': 59513, 'd_ff': 256, 'n_head': 4, 'd_head': 128, 'dropout': 0.2, 'layer_norm_epsilon': 1e-12}\n"
     ]
    }
   ],
   "source": [
    "print(module.config)"
   ]
  },
  {
   "cell_type": "code",
   "execution_count": 14,
   "metadata": {},
   "outputs": [
    {
     "data": {
      "text/plain": [
       "74"
      ]
     },
     "execution_count": 14,
     "metadata": {},
     "output_type": "execute_result"
    }
   ],
   "source": [
    "tokenizer.get_vocab()[\"/\"]"
   ]
  },
  {
   "attachments": {},
   "cell_type": "markdown",
   "metadata": {},
   "source": [
    "## i_pad 수정후\n"
   ]
  },
  {
   "cell_type": "code",
   "execution_count": 5,
   "metadata": {},
   "outputs": [],
   "source": [
    "from tqdm import tqdm\n",
    "import random\n",
    "\n",
    "def evaluate(module): #easy eva\n",
    "    epT=enumerate(module.val_data_loader)\n",
    "    for i, (x1, x2, yy) in epT:\n",
    "        if module.device:\n",
    "            x1=x1.to(module.device)\n",
    "            x2=x2.to(module.device)\n",
    "            yy=yy.to(module.device)\n",
    "\n",
    "        module.model.eval()\n",
    "        predict,*attentions=module.model(x1,x2)\n",
    "        return attentions #enc_att,dec_att,enc_dec_atts"
   ]
  },
  {
   "cell_type": "code",
   "execution_count": 6,
   "metadata": {},
   "outputs": [],
   "source": [
    "def att_mean_std(id,att,show=True):\n",
    "    attlist_for_head=[i for i in att[id].view(att[id].size(1),att[id].size(2),-1)]\n",
    "    if show:\n",
    "        print(\"=======\"*10+\"\\n\"+\"=======\"*10)\n",
    "        print(f\"{id} 번째 att분포 \")\n",
    "        for i in attlist_for_head:\n",
    "            data_mean = torch.mean(i,dim=1)[:5]\n",
    "            data_std = torch.std(i,dim=1)[:5]\n",
    "            data_max=torch.max(i,dim=1)[0][:5]\n",
    "            data_max_id=torch.max(i,dim=1)[1][:5]\n",
    "            data_sum=torch.sum(i,dim=1)[:5]\n",
    "            pad_att=i[20:,:]\n",
    "            print(f\"    mean: {data_mean}\\n     std: {data_std},\\n     data_max: {data_max},\\n     max_id: {data_max_id}\\n     sum: {data_sum}\\n----------\")\n",
    "\n",
    "    return attlist_for_head,pad_att"
   ]
  },
  {
   "cell_type": "code",
   "execution_count": 7,
   "metadata": {},
   "outputs": [
    {
     "name": "stdout",
     "output_type": "stream",
     "text": [
      "Dec_encAtt\n",
      "======================================================================\n",
      "======================================================================\n",
      "-1 번째 att분포 \n",
      "    mean: tensor([0.0078, 0.0078, 0.0078, 0.0078, 0.0078], grad_fn=<SliceBackward0>)\n",
      "     std: tensor([0.0354, 0.0354, 0.0354, 0.0354, 0.0354], grad_fn=<SliceBackward0>),\n",
      "     data_max: tensor([0.1667, 0.1667, 0.1667, 0.1667, 0.1667], grad_fn=<SliceBackward0>),\n",
      "     max_id: tensor([2, 5, 2, 2, 5])\n",
      "     sum: tensor([1.0000, 1.0000, 1.0000, 1.0000, 1.0000], grad_fn=<SliceBackward0>)\n",
      "----------\n",
      "    mean: tensor([0.0078, 0.0078, 0.0078, 0.0078, 0.0078], grad_fn=<SliceBackward0>)\n",
      "     std: tensor([0.0354, 0.0354, 0.0354, 0.0354, 0.0354], grad_fn=<SliceBackward0>),\n",
      "     data_max: tensor([0.1667, 0.1667, 0.1667, 0.1667, 0.1667], grad_fn=<SliceBackward0>),\n",
      "     max_id: tensor([4, 1, 0, 0, 1])\n",
      "     sum: tensor([1.0000, 1.0000, 1.0000, 1.0000, 1.0000], grad_fn=<SliceBackward0>)\n",
      "----------\n",
      "    mean: tensor([0.0078, 0.0078, 0.0078, 0.0078, 0.0078], grad_fn=<SliceBackward0>)\n",
      "     std: tensor([0.0354, 0.0354, 0.0354, 0.0354, 0.0354], grad_fn=<SliceBackward0>),\n",
      "     data_max: tensor([0.1667, 0.1667, 0.1667, 0.1667, 0.1667], grad_fn=<SliceBackward0>),\n",
      "     max_id: tensor([4, 2, 2, 4, 4])\n",
      "     sum: tensor([1., 1., 1., 1., 1.], grad_fn=<SliceBackward0>)\n",
      "----------\n",
      "    mean: tensor([0.0078, 0.0078, 0.0078, 0.0078, 0.0078], grad_fn=<SliceBackward0>)\n",
      "     std: tensor([0.0354, 0.0354, 0.0354, 0.0354, 0.0354], grad_fn=<SliceBackward0>),\n",
      "     data_max: tensor([0.1667, 0.1667, 0.1667, 0.1667, 0.1667], grad_fn=<SliceBackward0>),\n",
      "     max_id: tensor([0, 0, 4, 4, 4])\n",
      "     sum: tensor([1.0000, 1.0000, 1.0000, 1.0000, 1.0000], grad_fn=<SliceBackward0>)\n",
      "----------\n"
     ]
    }
   ],
   "source": [
    "att=evaluate(module=module)\n",
    "print(\"Dec_encAtt\")\n",
    "a,b=att_mean_std(-1,att[-1])\n",
    "a=0\n",
    "# for i in range(-1,module.config.n_layer*-1-1,-1):\n",
    "#     att_mean_std(i,att[1])#dec_enc"
   ]
  },
  {
   "cell_type": "code",
   "execution_count": 8,
   "metadata": {},
   "outputs": [
    {
     "name": "stdout",
     "output_type": "stream",
     "text": [
      "torch.Size([127, 59515])\n",
      "    mean: tensor([1.6802e-05, 1.6802e-05, 1.6802e-05, 1.6802e-05, 1.6802e-05],\n",
      "       grad_fn=<SliceBackward0>)\n",
      "     std: tensor([0.0041, 0.0041, 0.0041, 0.0041, 0.0041], grad_fn=<SliceBackward0>),\n",
      "     data_max: tensor([1., 1., 1., 1., 1.], grad_fn=<SliceBackward0>),\n",
      "     max_id: tensor([38492, 38492, 38492, 38492, 38492])\n",
      "     sum: tensor([1., 1., 1., 1., 1.], grad_fn=<SliceBackward0>)\n",
      "----------\n",
      "tensor([0., 0., 0., 0., 0.], grad_fn=<SelectBackward0>)\n"
     ]
    }
   ],
   "source": [
    "epT=enumerate(module.val_data_loader)\n",
    "for i, (x1, x2, yy) in epT:\n",
    "    if module.device:\n",
    "        x1=x1.to(module.device)\n",
    "        x2=x2.to(module.device)\n",
    "        yy=yy.to(module.device)\n",
    "    module.model.eval()\n",
    "    predict,*attentions=module.model(x1,x2)\n",
    "    predict=predict.view(-1,predict.size(2))\n",
    "    print(predict.shape)\n",
    "    data_mean = torch.mean(predict,dim=1)[:5]\n",
    "    data_std = torch.std(predict,dim=1)[:5]\n",
    "    data_max=torch.max(predict,dim=1)\n",
    "    data_max_id=torch.max(predict,dim=1)[1][:5]\n",
    "    data_sum=torch.sum(predict,dim=1)[:5]\n",
    "    pad_att=predict[-5:,tokenizer.pad_token_id]\n",
    "    print(f\"    mean: {data_mean}\\n     std: {data_std},\\n     data_max: {data_max[0][:5]},\\n     max_id: {data_max_id}\\n     sum: {data_sum}\\n----------\")\n",
    "    print(pad_att)\n",
    "    break\n",
    "    "
   ]
  },
  {
   "cell_type": "code",
   "execution_count": 9,
   "metadata": {},
   "outputs": [
    {
     "name": "stdout",
     "output_type": "stream",
     "text": [
      "torch.return_types.max(\n",
      "values=tensor([1., 1., 1., 1., 1., 1., 1., 1., 1., 1., 1., 1., 1., 1., 1., 1., 1., 1.,\n",
      "        1., 1., 1., 1., 1., 1., 1., 1., 1., 1., 1., 1., 1., 1., 1., 1., 1., 1.,\n",
      "        1., 1., 1., 1., 1., 1., 1., 1., 1., 1., 1., 1., 1., 1., 1., 1., 1., 1.,\n",
      "        1., 1., 1., 1., 1., 1., 1., 1., 1., 1., 1., 1., 1., 1., 1., 1., 1., 1.,\n",
      "        1., 1., 1., 1., 1., 1., 1., 1., 1., 1., 1., 1., 1., 1., 1., 1., 1., 1.,\n",
      "        1., 1., 1., 1., 1., 1., 1., 1., 1., 1., 1., 1., 1., 1., 1., 1., 1., 1.,\n",
      "        1., 1., 1., 1., 1., 1., 1., 1., 1., 1., 1., 1., 1., 1., 1., 1., 1., 1.,\n",
      "        1.], grad_fn=<MaxBackward0>),\n",
      "indices=tensor([38492, 38492, 38492, 38492, 38492, 38492, 38492, 38492, 38492, 38492,\n",
      "        38492, 38492, 38492, 38492, 38492, 38492, 38492, 38492, 38492, 38492,\n",
      "        38492, 38492, 38492, 38492, 38492, 38492, 38492, 38492, 38492, 38492,\n",
      "        38492, 38492, 38492, 38492, 38492, 38492, 38492, 38492, 38492, 38492,\n",
      "        38492, 38492, 38492, 38492, 38492, 38492, 38492, 38492, 38492, 38492,\n",
      "        38492, 38492, 38492, 38492, 38492, 38492, 38492, 38492, 38492, 38492,\n",
      "        38492, 38492, 38492, 38492, 38492, 38492, 38492, 38492, 38492, 38492,\n",
      "        38492, 38492, 38492, 38492, 38492, 38492, 38492, 38492, 38492, 38492,\n",
      "        38492, 38492, 38492, 38492, 38492, 38492, 38492, 38492, 38492, 38492,\n",
      "        38492, 38492, 38492, 38492, 38492, 38492, 38492, 38492, 38492, 38492,\n",
      "        38492, 38492, 38492, 38492, 38492, 38492, 38492, 38492, 38492, 38492,\n",
      "        38492, 38492, 38492, 38492, 38492, 38492, 38492, 38492, 38492, 38492,\n",
      "        38492, 38492, 38492, 38492, 38492, 38492, 38492]))\n"
     ]
    }
   ],
   "source": [
    "print(data_max)"
   ]
  },
  {
   "cell_type": "code",
   "execution_count": 10,
   "metadata": {},
   "outputs": [
    {
     "name": "stdout",
     "output_type": "stream",
     "text": [
      "tensor([[1.7704e-41, 2.4432e-40, 4.3431e-39,  ..., 2.6098e-38, 0.0000e+00,\n",
      "         3.5746e-37],\n",
      "        [1.7704e-41, 2.4433e-40, 4.3432e-39,  ..., 2.6099e-38, 0.0000e+00,\n",
      "         3.5747e-37],\n",
      "        [1.7704e-41, 2.4433e-40, 4.3432e-39,  ..., 2.6098e-38, 0.0000e+00,\n",
      "         3.5746e-37],\n",
      "        ...,\n",
      "        [1.7704e-41, 2.4433e-40, 4.3432e-39,  ..., 2.6098e-38, 0.0000e+00,\n",
      "         3.5747e-37],\n",
      "        [1.7704e-41, 2.4433e-40, 4.3432e-39,  ..., 2.6098e-38, 0.0000e+00,\n",
      "         3.5747e-37],\n",
      "        [1.7704e-41, 2.4433e-40, 4.3432e-39,  ..., 2.6098e-38, 0.0000e+00,\n",
      "         3.5747e-37]], grad_fn=<ViewBackward0>)\n",
      "#160;: #160;: #160;: #160;: #160;: #160;: #160;: #160;: #160;: #160;: #160;: #160;: #160;: #160;: #160;: #160;: #160;: #160;: #160;: #160;: #160;: #160;: #160;: #160;: #160;: #160;: #160;: #160;: #160;: #160;: #160;: #160;: #160;: #160;: #160;: #160;: #160;: #160;: #160;: #160;: #160;: #160;: #160;: #160;: #160;: #160;: #160;: #160;: #160;: #160;: #160;: #160;: #160;: #160;: #160;: #160;: #160;: #160;: #160;: #160;: #160;: #160;: #160;: #160;: #160;: #160;: #160;: #160;: #160;: #160;: #160;: #160;: #160;: #160;: #160;: #160;: #160;: #160;: #160;: #160;: #160;: #160;: #160;: #160;: #160;: #160;: #160;: #160;: #160;: #160;: #160;: #160;: #160;: #160;: #160;: #160;: #160;: #160;: #160;: #160;: #160;: #160;: #160;: #160;: #160;: #160;: #160;: #160;: #160;: #160;: #160;: #160;: #160;: #160;: #160;: #160;: #160;: #160;: #160;: #160;: #160;: #160;: #160;: #160;: #160;: #160;: #160;:\n"
     ]
    }
   ],
   "source": [
    "print(predict)\n",
    "predict=torch.max(predict,dim=1)[1]\n",
    "print(tokenizer.convert_tokens_to_string(tokenizer.convert_ids_to_tokens(predict)))"
   ]
  },
  {
   "attachments": {},
   "cell_type": "markdown",
   "metadata": {},
   "source": [
    "## predict\n"
   ]
  },
  {
   "cell_type": "code",
   "execution_count": 11,
   "metadata": {},
   "outputs": [
    {
     "name": "stdout",
     "output_type": "stream",
     "text": [
      "<class 'list'> <class 'list'>\n",
      "<bos> Anubis, ou Inpou & #160; / Anepou, était un dieu égyptien de la vie de l'au-delà. Pour récupérer le trésor entre les oreilles d'Anubis, creusez les deux colonnes à la gauche de la momie et marchez sur le haut de la momie. Déplacez vous à gauche de la momie en creusant vers la droite. La momie devrait tomber dans le trou dans la colonne la plus à droite. Maintenant creusez les deux colonnes de gauche jusqu'à ce que vous vous connectez à l 'œ il-échelle. Descendez de</s>\n",
      "seq_padd:  128\n",
      "seq_padd:  128\n",
      "seq_padd:  127\n",
      "<bos> Anubis, or Inpu,▁was an▁Egyptian▁god of the▁afterlife. To▁get the▁treasure▁between Anubis'▁ears,▁dig▁out the▁two▁columns to the▁left of the▁mummy and stand on top of the▁mummy.▁Move▁left off the▁mummy▁while▁digging▁right. The▁mummy▁should▁fall▁into the▁hole in the▁right▁most▁column.▁Now▁dig▁out the▁left▁two▁columns▁until you▁connect to the▁ladder-eye.▁Move▁down from the▁right▁most▁ladder of the▁eye and you will▁fall to the▁pole▁below. To▁get the▁treasure▁inside the▁right▁ear,▁dig▁out the▁higher of the▁two-block</s>\n",
      "<bos> Anubis, ou Inpou & #160; / Anepou, était un dieu égyptien de la vie de l'au-delà. Pour récupérer le trésor entre les oreilles d'Anubis, creusez les deux colonnes à la gauche de la momie et marchez sur le haut de la momie. Déplacez vous à gauche de la momie en creusant vers la droite. La momie devrait tomber dans le trou dans la colonne la plus à droite. Maintenant creusez les deux colonnes de gauche jusqu'à ce que vous vous connectez à l 'œ il-échelle. Descendez de\n"
     ]
    }
   ],
   "source": [
    "dd=6\n",
    "print(type(y_train[dd]),type(X_train[dd]))\n",
    "print(tokenizer.convert_tokens_to_string(tokenizer.convert_ids_to_tokens(y_train[dd])))\n",
    "\n",
    "a,*b=module.seq_to_seq_process(X_train[dd],y_train[dd])"
   ]
  },
  {
   "cell_type": "code",
   "execution_count": 12,
   "metadata": {},
   "outputs": [
    {
     "name": "stdout",
     "output_type": "stream",
     "text": [
      "tensor([[38492, 38492, 38492, 38492, 38492, 38492, 38492, 38492, 38492, 38492,\n",
      "         38492, 38492, 38492, 38492, 38492, 38492, 38492, 38492, 38492, 38492,\n",
      "         38492, 38492, 38492, 38492, 38492, 38492, 38492, 38492, 38492, 38492,\n",
      "         38492, 38492, 38492, 38492, 38492, 38492, 38492, 38492, 38492, 38492,\n",
      "         38492, 38492, 38492, 38492, 38492, 38492, 38492, 38492, 38492, 38492,\n",
      "         38492, 38492, 38492, 38492, 38492, 38492, 38492, 38492, 38492, 38492,\n",
      "         38492, 38492, 38492, 38492, 38492, 38492, 38492, 38492, 38492, 38492,\n",
      "         38492, 38492, 38492, 38492, 38492, 38492, 38492, 38492, 38492, 38492,\n",
      "         38492, 38492, 38492, 38492, 38492, 38492, 38492, 38492, 38492, 38492,\n",
      "         38492, 38492, 38492, 38492, 38492, 38492, 38492, 38492, 38492, 38492,\n",
      "         38492, 38492, 38492, 38492, 38492, 38492, 38492, 38492, 38492, 38492,\n",
      "         38492, 38492, 38492, 38492, 38492, 38492, 38492, 38492, 38492, 38492,\n",
      "         38492, 38492, 38492, 38492, 38492, 38492, 38492]])\n",
      "#160;: #160;: #160;: #160;: #160;: #160;: #160;: #160;: #160;: #160;: #160;: #160;: #160;: #160;: #160;: #160;: #160;: #160;: #160;: #160;: #160;: #160;: #160;: #160;: #160;: #160;: #160;: #160;: #160;: #160;: #160;: #160;: #160;: #160;: #160;: #160;: #160;: #160;: #160;: #160;: #160;: #160;: #160;: #160;: #160;: #160;: #160;: #160;: #160;: #160;: #160;: #160;: #160;: #160;: #160;: #160;: #160;: #160;: #160;: #160;: #160;: #160;: #160;: #160;: #160;: #160;: #160;: #160;: #160;: #160;: #160;: #160;: #160;: #160;: #160;: #160;: #160;: #160;: #160;: #160;: #160;: #160;: #160;: #160;: #160;: #160;: #160;: #160;: #160;: #160;: #160;: #160;: #160;: #160;: #160;: #160;: #160;: #160;: #160;: #160;: #160;: #160;: #160;: #160;: #160;: #160;: #160;: #160;: #160;: #160;: #160;: #160;: #160;: #160;: #160;: #160;: #160;: #160;: #160;: #160;: #160;: #160;: #160;: #160;: #160;: #160;: #160;:\n",
      "<bos> Anubis, or Inpu,▁was an▁Egyptian▁god of the▁afterlife. To▁get the▁treasure▁between Anubis'▁ears,▁dig▁out the▁two▁columns to the▁left of the▁mummy and stand on top of the▁mummy.▁Move▁left off the▁mummy▁while▁digging▁right. The▁mummy▁should▁fall▁into the▁hole in the▁right▁most▁column.▁Now▁dig▁out the▁left▁two▁columns▁until you▁connect to the▁ladder-eye.▁Move▁down from the▁right▁most▁ladder of the▁eye and you will▁fall to the▁pole▁below. To▁get the▁treasure▁inside the▁right▁ear,▁dig▁out the▁higher of the▁two-block</s>\n",
      "<bos> Anubis, ou Inpou & #160; / Anepou, était un dieu égyptien de la vie de l'au-delà. Pour récupérer le trésor entre les oreilles d'Anubis, creusez les deux colonnes à la gauche de la momie et marchez sur le haut de la momie. Déplacez vous à gauche de la momie en creusant vers la droite. La momie devrait tomber dans le trou dans la colonne la plus à droite. Maintenant creusez les deux colonnes de gauche jusqu'à ce que vous vous connectez à l 'œ il-échelle. Descendez de\n"
     ]
    }
   ],
   "source": [
    "print(a)\n",
    "print(tokenizer.convert_tokens_to_string(tokenizer.convert_ids_to_tokens(a.view(-1))))\n",
    "print(tokenizer.convert_tokens_to_string(tokenizer.convert_ids_to_tokens(b[0])))\n",
    "print(tokenizer.convert_tokens_to_string(tokenizer.convert_ids_to_tokens(b[1])))"
   ]
  },
  {
   "cell_type": "code",
   "execution_count": null,
   "metadata": {},
   "outputs": [],
   "source": []
  }
 ],
 "metadata": {
  "kernelspec": {
   "display_name": "pytorchVenv",
   "language": "python",
   "name": "python3"
  },
  "language_info": {
   "codemirror_mode": {
    "name": "ipython",
    "version": 3
   },
   "file_extension": ".py",
   "mimetype": "text/x-python",
   "name": "python",
   "nbconvert_exporter": "python",
   "pygments_lexer": "ipython3",
   "version": "3.11.4"
  },
  "orig_nbformat": 4
 },
 "nbformat": 4,
 "nbformat_minor": 2
}
